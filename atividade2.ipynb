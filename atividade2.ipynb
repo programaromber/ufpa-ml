{
 "cells": [
  {
   "cell_type": "markdown",
   "id": "b6357b7a-f0a8-4b28-a716-1f560a9c2722",
   "metadata": {
    "editable": true,
    "slideshow": {
     "slide_type": ""
    },
    "tags": []
   },
   "source": [
    "# UFPA PPGCC: Aprendizado de Máquina \n",
    "# Aluno: Rafael Barbosa de Salles"
   ]
  },
  {
   "cell_type": "markdown",
   "id": "d63041a1-131b-4f24-a8f1-a446f61702b3",
   "metadata": {
    "editable": true,
    "slideshow": {
     "slide_type": ""
    },
    "tags": []
   },
   "source": [
    "## 1. (1.0 pt) Os dados abaixo se referem a taxas de colesterol total (mg/100ml) de 30 indivíduos. Utilize duas casas decimais para o cálculo.\r\n",
    "- a. Montar uma tabela de distribuição de frequência por intervalo para as taxas (utilize a regra de Sturges para calcular o número de classes intervalos).\r\n",
    "\r\n",
    "- b. Calcule o histograma\r\n",
    "\r\n",
    "- c. Calcule as frequências relativas, às frequências acumuladas absolutas e relativivas e os pontos médios para todas as classes\r\n",
    "  \r\n",
    "- d. Calcule a taxa de colesterol média\r\n",
    "  \r\n",
    "- e. Calcule a taxa de colesterol mediana\r\n",
    "\r\n",
    "- f. Calcule a variância e o desvio padrão amostralostral\r\n",
    "\n"
   ]
  },
  {
   "cell_type": "code",
   "execution_count": 256,
   "id": "8a1f4e66-a888-4e5a-bff2-a06bbd087bb0",
   "metadata": {
    "editable": true,
    "slideshow": {
     "slide_type": ""
    },
    "tags": []
   },
   "outputs": [
    {
     "name": "stdout",
     "output_type": "stream",
     "text": [
      "    Identificador  Colesterol\n",
      "0               1         140\n",
      "1               2         160\n",
      "2               3         168\n",
      "3               4         180\n",
      "4               5         180\n",
      "5               6         180\n",
      "6               7         180\n",
      "7               8         184\n",
      "8               9         185\n",
      "9              10         190\n",
      "10             11         190\n",
      "11             12         192\n",
      "12             13         192\n",
      "13             14         196\n",
      "16             17         200\n",
      "14             15         200\n",
      "15             16         200\n",
      "17             18         205\n",
      "18             19         205\n",
      "19             20         208\n",
      "20             21         214\n",
      "21             22         214\n",
      "22             23         220\n",
      "23             24         220\n",
      "24             25         225\n",
      "25             26         230\n",
      "26             27         240\n",
      "27             28         260\n",
      "28             29         280\n",
      "29             30         315\n"
     ]
    }
   ],
   "source": [
    "\n",
    "## Lista de registros\n",
    "registros = [140,160,168,180,180,180,180,184,185,190,190,192,192,196,200,200,200,205,205,208,214,214,220,220,225,230,240,260,280,315]\n",
    "\n",
    "dados = [(1, 140),(2, 160),(3, 168),(4, 180),(5, 180),(6, 180),(7, 180),(8, 184),(9, 185),(10, 190),(11, 190),(12, 192),(13, 192),(14, 196),(15, 200),(16, 200),(17, 200),(18, 205),(19, 205),(20, 208),(21, 214),(22, 214),(23, 220),(24, 220),(25, 225),(26, 230),(27, 240),(28, 260),(29, 280),(30, 315)]\n",
    "\n",
    "\n",
    "# Criando um DataFrame a partir dos dados\n",
    "import pandas as pd\n",
    "dataframe = pd.DataFrame(dados, columns=['Identificador', 'Colesterol'])\n",
    "\n",
    "# Ordenando por Valor\n",
    "df_ordenado = dataframe.sort_values('Colesterol')\n",
    "\n",
    "# Convertendo para float\n",
    "dataframe['Colesterol'] = dataframe['Colesterol'].astype(float)\n",
    "\n",
    "# incluir nova coluna\n",
    "# dataframe['Novo_Valor'] = dataframe['Colesterol'] + 1\n",
    "\n",
    "print(df_ordenado)"
   ]
  },
  {
   "cell_type": "code",
   "execution_count": 213,
   "id": "2e5fe760-dc8f-4abc-a893-92872bdd4951",
   "metadata": {
    "editable": true,
    "slideshow": {
     "slide_type": ""
    },
    "tags": []
   },
   "outputs": [
    {
     "name": "stdout",
     "output_type": "stream",
     "text": [
      "            Intervalo  Frequência\n",
      "0  (139.825, 169.167]           3\n",
      "1  (169.167, 198.333]          11\n",
      "2    (198.333, 227.5]          11\n",
      "3    (227.5, 256.667]           2\n",
      "4  (256.667, 285.833]           2\n",
      "5    (285.833, 315.0]           1\n"
     ]
    }
   ],
   "source": [
    "# Distribuiçãop de frequência\n",
    "import numpy as np\n",
    "\n",
    "# Calculando o número de classes pela regra de Sturges\n",
    "num_classes = int(np.ceil(1 + np.log2(len(dataframe))))\n",
    "\n",
    "# Criando os intervalos e contando a frequência\n",
    "dataframe['Intervalo'] = pd.cut(dataframe['Colesterol'], bins=num_classes)\n",
    "freq_distribuicao = dataframe['Intervalo'].value_counts().sort_index()\n",
    "\n",
    "# Criando um DataFrame com a distribuição de frequência\n",
    "frequencia = pd.DataFrame({'Intervalo': freq_distribuicao.index, 'Frequência': freq_distribuicao.values})\n",
    "\n",
    "print(frequencia)"
   ]
  },
  {
   "cell_type": "code",
   "execution_count": 215,
   "id": "2fa8597c-d9dd-4a1e-9482-14cf17ae86f5",
   "metadata": {
    "editable": true,
    "slideshow": {
     "slide_type": ""
    },
    "tags": []
   },
   "outputs": [
    {
     "data": {
      "image/png": "[encoded data removed]",
      "text/plain": [
       "<Figure size 640x480 with 1 Axes>"
      ]
     },
     "metadata": {},
     "output_type": "display_data"
    }
   ],
   "source": [
    "import matplotlib.pyplot as plt\n",
    "\n",
    "\n",
    "# Extraindo os limites dos intervalos para o eixo x do histograma\n",
    "intervalos_meio = frequencia['Intervalo'].map(lambda x: x.left + (x.right - x.left) / 2) \n",
    "\n",
    "# Criando o histograma\n",
    "plt.bar(intervalos_meio, frequencia['Frequência'])\n",
    "plt.xlabel('Intervalo de Colesterol (meio)')\n",
    "plt.ylabel('Frequência')\n",
    "plt.title('Distribuição de Frequência do Colesterol')\n",
    "plt.xticks(rotation=45)  # Rotaciona os rótulos do eixo x para melhor visualização\n",
    "plt.show()\n"
   ]
  },
  {
   "cell_type": "code",
   "execution_count": 223,
   "id": "5efa4973-fcef-4c6f-a651-79eae614f7cb",
   "metadata": {
    "editable": true,
    "slideshow": {
     "slide_type": ""
    },
    "tags": []
   },
   "outputs": [
    {
     "name": "stdout",
     "output_type": "stream",
     "text": [
      "            Intervalo  Frequência  Frequência Relativa  \\\n",
      "0  (139.825, 169.167]           3             0.100000   \n",
      "1  (169.167, 198.333]          11             0.366667   \n",
      "2    (198.333, 227.5]          11             0.366667   \n",
      "3    (227.5, 256.667]           2             0.066667   \n",
      "4  (256.667, 285.833]           2             0.066667   \n",
      "5    (285.833, 315.0]           1             0.033333   \n",
      "\n",
      "   Frequência Acumulada Absoluta  Frequência Acumulada Relativa Ponto Médio  \n",
      "0                              3                       0.100000    154.4960  \n",
      "1                             14                       0.466667    183.7500  \n",
      "2                             25                       0.833333    212.9165  \n",
      "3                             27                       0.900000    242.0835  \n",
      "4                             29                       0.966667    271.2500  \n",
      "5                             30                       1.000000    300.4165  \n"
     ]
    }
   ],
   "source": [
    "# Calculando a frequência relativa\n",
    "frequencia['Frequência Relativa'] = df_freq['Frequência'] / frequencia['Frequência'].sum()\n",
    "\n",
    "# Calculando a frequência acumulada absoluta\n",
    "frequencia['Frequência Acumulada Absoluta'] = frequencia['Frequência'].cumsum()\n",
    "\n",
    "# Calculando a frequência acumulada relativa\n",
    "frequencia['Frequência Acumulada Relativa'] = frequencia['Frequência Acumulada Absoluta'] / frequencia['Frequência'].sum()\n",
    "\n",
    "# Calculando o ponto médio de cada intervalo\n",
    "frequencia['Ponto Médio'] = frequencia['Intervalo'].map(lambda x: x.mid)\n",
    "\n",
    "\n",
    "print(frequencia)"
   ]
  },
  {
   "cell_type": "code",
   "execution_count": 227,
   "id": "d1cd2306-3e7c-4026-b9c2-7006c27071b1",
   "metadata": {
    "editable": true,
    "slideshow": {
     "slide_type": ""
    },
    "tags": []
   },
   "outputs": [
    {
     "name": "stdout",
     "output_type": "stream",
     "text": [
      "Média: 205.10\n",
      "Mediana: 200.00\n",
      "Variância: 1224.99\n",
      "Desvio Padrão: 35.00\n"
     ]
    }
   ],
   "source": [
    "# Calculando a média, mediana, variância e desvio padrão\n",
    "media = df['Colesterol'].mean()\n",
    "mediana = df['Colesterol'].median()\n",
    "variancia = df['Colesterol'].var()\n",
    "desvio_padrao = df['Colesterol'].std()\n",
    "\n",
    "print(f\"Média: {media:.2f}\")\n",
    "print(f\"Mediana: {mediana:.2f}\")\n",
    "print(f\"Variância: {variancia:.2f}\")\n",
    "print(f\"Desvio Padrão: {desvio_padrao:.2f}\")"
   ]
  },
  {
   "cell_type": "markdown",
   "id": "903306f9-3aae-475b-b61d-8a8533852a57",
   "metadata": {
    "editable": true,
    "jp-MarkdownHeadingCollapsed": true,
    "slideshow": {
     "slide_type": ""
    },
    "tags": []
   },
   "source": [
    "## 2. (1.5 pt) Considere que os valores assumidos por um dado atributo numérico são listados no vetor x = {1, 3, 2, 3, 2, 2, 0, 1, 0, 0, 3, 0, 2, 3, 2, 2, 3, 3, 0, 3, 2, 0}.\n",
    "- a) Calcule o histograma de x (utilize o bom senso para definir o número de classes). \n",
    "- b) Supondo que tais valores correspondem aos assumidos em um experimento por uma variável aleatória X, estime sua média E[X] = µ, E[X2], variância σx2, o desvio padrão σx e o desvio médio absoluto.\n",
    "- c) X é uma variável aleatória ou contínua?"
   ]
  },
  {
   "cell_type": "code",
   "execution_count": 306,
   "id": "1348efe5-59a6-440b-b58e-dc8d84b1d52d",
   "metadata": {
    "editable": true,
    "slideshow": {
     "slide_type": ""
    },
    "tags": []
   },
   "outputs": [
    {
     "name": "stdout",
     "output_type": "stream",
     "text": [
      "    Valor\n",
      "21      0\n",
      "18      0\n",
      "11      0\n",
      "9       0\n",
      "8       0\n",
      "6       0\n",
      "7       1\n",
      "0       1\n",
      "4       2\n",
      "20      2\n",
      "2       2\n",
      "12      2\n",
      "14      2\n",
      "15      2\n",
      "5       2\n",
      "3       3\n",
      "13      3\n",
      "16      3\n",
      "17      3\n",
      "1       3\n",
      "19      3\n",
      "10      3\n"
     ]
    }
   ],
   "source": [
    "\n",
    "## Lista de registros\n",
    "dados_x = [1, 3, 2, 3, 2, 2, 0, 1, 0, 0, 3, 0, 2, 3, 2, 2, 3, 3, 0, 3, 2, 0]\n",
    "\n",
    "# Criando um DataFrame a partir dos dados\n",
    "import pandas as pd\n",
    "df_x = pd.DataFrame(dados_x, columns=['Valor'])\n",
    "\n",
    "# Ordenando por Valor\n",
    "df_x_ordenado = df_x.sort_values('Valor')\n",
    "\n",
    "print(df_x_ordenado)"
   ]
  },
  {
   "cell_type": "code",
   "execution_count": 284,
   "id": "5d715144-208b-4789-b40a-258be192fdfb",
   "metadata": {
    "editable": true,
    "slideshow": {
     "slide_type": ""
    },
    "tags": []
   },
   "outputs": [
    {
     "name": "stdout",
     "output_type": "stream",
     "text": [
      "   Valor  Frequência\n",
      "0      0           6\n",
      "1      1           2\n",
      "2      2           7\n",
      "3      3           7\n"
     ]
    }
   ],
   "source": [
    "# Distribuição de frequência\n",
    "\n",
    "# Calculando o número de classes pela regra de Sturges (adaptada para dados discretos)\n",
    "num_classes = len(df_x['Valor'].unique())\n",
    "\n",
    "# Criando os intervalos e contando a frequência\n",
    "# Como os dados são discretos, os intervalos serão os próprios valores únicos\n",
    "freq_distribuicao = df_x['Valor'].value_counts().sort_index()\n",
    "\n",
    "# Criando um DataFrame com a distribuição de frequência\n",
    "distribuicao_frequencia = pd.DataFrame({'Valor': freq_distribuicao.index, 'Frequência': freq_distribuicao.values})\n",
    "\n",
    "print(distribuicao_frequencia)"
   ]
  },
  {
   "cell_type": "code",
   "execution_count": 298,
   "id": "31f77312-bc24-4994-8327-3acfdcf54d4f",
   "metadata": {
    "editable": true,
    "slideshow": {
     "slide_type": ""
    },
    "tags": []
   },
   "outputs": [
    {
     "data": {
      "image/png": "[encoded data removed]",
      "text/plain": [
       "<Figure size 640x480 with 1 Axes>"
      ]
     },
     "metadata": {},
     "output_type": "display_data"
    }
   ],
   "source": [
    "# Criando o histograma\n",
    "plt.bar(distribuicao_frequencia['Valor'], distribuicao_frequencia['Frequência'])\n",
    "plt.xlabel('Valor')\n",
    "plt.ylabel('Frequência')\n",
    "plt.title('Distribuição de Frequência dos Valores')\n",
    "plt.xticks(distribuicao_frequencia['Valor'])  # Garante que todos os valores apareçam no eixo x\n",
    "plt.show()"
   ]
  },
  {
   "cell_type": "code",
   "execution_count": 308,
   "id": "f6502359-70f2-48c9-9f7c-31c3afb350be",
   "metadata": {
    "editable": true,
    "slideshow": {
     "slide_type": ""
    },
    "tags": []
   },
   "outputs": [
    {
     "name": "stdout",
     "output_type": "stream",
     "text": [
      "Média (E[X]): 1.68\n",
      "E[X^2]: 4.23\n",
      "Variância (σ^2): 1.47\n",
      "Desvio Padrão (σ): 1.21\n",
      "Desvio Médio Absoluto: 1.04\n",
      "X é uma variável aleatória\n"
     ]
    }
   ],
   "source": [
    "# Calculando as medidas\n",
    "media_x = df_x['Valor'].mean()\n",
    "variancia_x = df_x['Valor'].var()\n",
    "desvio_padrao_x = df_x['Valor'].std()\n",
    "\n",
    "# Calculando o quadrado da média\n",
    "media_quadrado = media**2\n",
    "\n",
    "# Calculando o valor esperado de X^2\n",
    "ex2 = (df_x['Valor']**2).mean()\n",
    "\n",
    "# Calculando o desvio médio absoluto\n",
    "desvio_medio_absoluto_x = np.mean(np.abs(df_x['Valor'] - media))\n",
    "\n",
    "print(f\"Média (E[X]): {media_x:.2f}\")\n",
    "print(f\"E[X^2]: {ex2:.2f}\")\n",
    "print(f\"Variância (σ^2): {variancia_x:.2f}\")\n",
    "print(f\"Desvio Padrão (σ): {desvio_padrao_x:.2f}\")\n",
    "print(f\"Desvio Médio Absoluto: {desvio_medio_absoluto_x:.2f}\")\n",
    "print(\"X é uma variável aleatória\")\n"
   ]
  },
  {
   "cell_type": "code",
   "execution_count": null,
   "id": "42091a4c-8014-4d69-931e-e4dd13f09794",
   "metadata": {
    "editable": true,
    "slideshow": {
     "slide_type": ""
    },
    "tags": []
   },
   "outputs": [],
   "source": []
  },
  {
   "cell_type": "markdown",
   "id": "0ddbe6be-9455-45a9-afcd-4addc200fe2f",
   "metadata": {
    "editable": true,
    "slideshow": {
     "slide_type": ""
    },
    "tags": []
   },
   "source": [
    "## 3. (2.0 pt) Use um editor de texto ASCII para verificar o conteúdo do arquivo iris.arff (o qual vem com Weka). Estude-o também usando a GUI chamada Explorer do pacote Weka. Copie a iris.arff para um novo arquivo chamado iris.csv, elimine o header (primeiras linhas, antes de @data), e leia o arquivo iris.cvs no Excel. Escreva código em Java ou outra linguagem de sua preferência para calcular a variância do terceiro parâmetro (terceiro elemento de x) a partir da leitura do arquivo iris.csv. Compare o resultado com as variâncias estimadas pelos programas Weka e Excel. Inclua a listagem de seu código.\r\n",
    "\n"
   ]
  },
  {
   "cell_type": "markdown",
   "id": "34d8a12c-5b58-4a00-92bd-06f24ddf480d",
   "metadata": {
    "editable": true,
    "slideshow": {
     "slide_type": ""
    },
    "tags": []
   },
   "source": [
    "Skip to content\n",
    " \n",
    "Search…\n",
    "All gists\n",
    "Back to GitHub\n",
    "Sign in\n",
    "Sign up\n",
    "Instantly share code, notes, and snippets.\n",
    "\n",
    "@myui\n",
    "myui/iris.arff\n",
    "Created 9 years ago\n",
    "Code\n",
    "Revisions\n",
    "1\n",
    "Stars\n",
    "7\n",
    "Forks\n",
    "5\n",
    "Clone this repository at &lt;script src=&quot;https://gist.github.com/myui/143fa9d05bd6e7db0114.js&quot;&gt;&lt;/script&gt;\n",
    "<script src=\"https://gist.github.com/myui/143fa9d05bd6e7db0114.js\"></script>\n",
    "iris.arff\n",
    "% 1. Title: Iris Plants Database\n",
    "% \n",
    "% 2. Sources:\n",
    "%      (a) Creator: R.A. Fisher\n",
    "%      (b) Donor: Michael Marshall (MARSHALL%PLU@io.arc.nasa.gov)\n",
    "%      (c) Date: July, 1988\n",
    "% \n",
    "% 3. Past Usage:\n",
    "%    - Publications: too many to mention!!!  Here are a few.\n",
    "%    1. Fisher,R.A. \"The use of multiple measurements in taxonomic problems\"\n",
    "%       Annual Eugenics, 7, Part II, 179-188 (1936); also in \"Contributions\n",
    "%       to Mathematical Statistics\" (John Wiley, NY, 1950).\n",
    "%    2. Duda,R.O., & Hart,P.E. (1973) Pattern Classification and Scene Analysis.\n",
    "%       (Q327.D83) John Wiley & Sons.  ISBN 0-471-22361-1.  See page 218.\n",
    "%    3. Dasarathy, B.V. (1980) \"Nosing Around the Neighborhood: A New System\n",
    "%       Structure and Classification Rule for Recognition in Partially Exposed\n",
    "%       Environments\".  IEEE Transactions on Pattern Analysis and Machine\n",
    "%       Intelligence, Vol. PAMI-2, No. 1, 67-71.\n",
    "%       -- Results:\n",
    "%          -- very low misclassification rates (0% for the setosa class)\n",
    "%    4. Gates, G.W. (1972) \"The Reduced Nearest Neighbor Rule\".  IEEE \n",
    "%       Transactions on Information Theory, May 1972, 431-433.\n",
    "%       -- Results:\n",
    "%          -- very low misclassification rates again\n",
    "%    5. See also: 1988 MLC Proceedings, 54-64.  Cheeseman et al's AUTOCLASS II\n",
    "%       conceptual clustering system finds 3 classes in the data.\n",
    "% \n",
    "% 4. Relevant Information:\n",
    "%    --- This is perhaps the best known database to be found in the pattern\n",
    "%        recognition literature.  Fisher's paper is a classic in the field\n",
    "%        and is referenced frequently to this day.  (See Duda & Hart, for\n",
    "%        example.)  The data set contains 3 classes of 50 instances each,\n",
    "%        where each class refers to a type of iris plant.  One class is\n",
    "%        linearly separable from the other 2; the latter are NOT linearly\n",
    "%        separable from each other.\n",
    "%    --- Predicted attribute: class of iris plant.\n",
    "%    --- This is an exceedingly simple domain.\n",
    "% \n",
    "% 5. Number of Instances: 150 (50 in each of three classes)\n",
    "% \n",
    "% 6. Number of Attributes: 4 numeric, predictive attributes and the class\n",
    "% \n",
    "% 7. Attribute Information:\n",
    "%    1. sepal length in cm\n",
    "%    2. sepal width in cm\n",
    "%    3. petal length in cm\n",
    "%    4. petal width in cm\n",
    "%    5. class: \n",
    "%       -- Iris Setosa\n",
    "%       -- Iris Versicolour\n",
    "%       -- Iris Virginica\n",
    "% \n",
    "% 8. Missing Attribute Values: None\n",
    "% \n",
    "% Summary Statistics:\n",
    "%  \t           Min  Max   Mean    SD   Class Correlation\n",
    "%    sepal length: 4.3  7.9   5.84  0.83    0.7826   \n",
    "%     sepal width: 2.0  4.4   3.05  0.43   -0.4194\n",
    "%    petal length: 1.0  6.9   3.76  1.76    0.9490  (high!)\n",
    "%     petal width: 0.1  2.5   1.20  0.76    0.9565  (high!)\n",
    "% \n",
    "% 9. Class Distribution: 33.3% for each of 3 classes.\n",
    "\n",
    "@RELATION iris\n",
    "\n",
    "@ATTRIBUTE sepallength\tREAL\n",
    "@ATTRIBUTE sepalwidth \tREAL\n",
    "@ATTRIBUTE petallength \tREAL\n",
    "@ATTRIBUTE petalwidth\tREAL\n",
    "@ATTRIBUTE class \t{Iris-setosa,Iris-versicolor,Iris-virginica}\n",
    "\n",
    "@DATA\n",
    "5.1,3.5,1.4,0.2,Iris-setosa\n",
    "4.9,3.0,1.4,0.2,Iris-setosa\n",
    "4.7,3.2,1.3,0.2,Iris-setosa\n",
    "4.6,3.1,1.5,0.2,Iris-setosa\n",
    "5.0,3.6,1.4,0.2,Iris-setosa\n",
    "5.4,3.9,1.7,0.4,Iris-setosa\n",
    "4.6,3.4,1.4,0.3,Iris-setosa\n",
    "5.0,3.4,1.5,0.2,Iris-setosa\n",
    "4.4,2.9,1.4,0.2,Iris-setosa\n",
    "4.9,3.1,1.5,0.1,Iris-setosa\n",
    "5.4,3.7,1.5,0.2,Iris-setosa\n",
    "4.8,3.4,1.6,0.2,Iris-setosa\n",
    "4.8,3.0,1.4,0.1,Iris-setosa\n",
    "4.3,3.0,1.1,0.1,Iris-setosa\n",
    "5.8,4.0,1.2,0.2,Iris-setosa\n",
    "5.7,4.4,1.5,0.4,Iris-setosa\n",
    "5.4,3.9,1.3,0.4,Iris-setosa\n",
    "5.1,3.5,1.4,0.3,Iris-setosa\n",
    "5.7,3.8,1.7,0.3,Iris-setosa\n",
    "5.1,3.8,1.5,0.3,Iris-setosa\n",
    "5.4,3.4,1.7,0.2,Iris-setosa\n",
    "5.1,3.7,1.5,0.4,Iris-setosa\n",
    "4.6,3.6,1.0,0.2,Iris-setosa\n",
    "5.1,3.3,1.7,0.5,Iris-setosa\n",
    "4.8,3.4,1.9,0.2,Iris-setosa\n",
    "5.0,3.0,1.6,0.2,Iris-setosa\n",
    "5.0,3.4,1.6,0.4,Iris-setosa\n",
    "5.2,3.5,1.5,0.2,Iris-setosa\n",
    "5.2,3.4,1.4,0.2,Iris-setosa\n",
    "4.7,3.2,1.6,0.2,Iris-setosa\n",
    "4.8,3.1,1.6,0.2,Iris-setosa\n",
    "5.4,3.4,1.5,0.4,Iris-setosa\n",
    "5.2,4.1,1.5,0.1,Iris-setosa\n",
    "5.5,4.2,1.4,0.2,Iris-setosa\n",
    "4.9,3.1,1.5,0.1,Iris-setosa\n",
    "5.0,3.2,1.2,0.2,Iris-setosa\n",
    "5.5,3.5,1.3,0.2,Iris-setosa\n",
    "4.9,3.1,1.5,0.1,Iris-setosa\n",
    "4.4,3.0,1.3,0.2,Iris-setosa\n",
    "5.1,3.4,1.5,0.2,Iris-setosa\n",
    "5.0,3.5,1.3,0.3,Iris-setosa\n",
    "4.5,2.3,1.3,0.3,Iris-setosa\n",
    "4.4,3.2,1.3,0.2,Iris-setosa\n",
    "5.0,3.5,1.6,0.6,Iris-setosa\n",
    "5.1,3.8,1.9,0.4,Iris-setosa\n",
    "4.8,3.0,1.4,0.3,Iris-setosa\n",
    "5.1,3.8,1.6,0.2,Iris-setosa\n",
    "4.6,3.2,1.4,0.2,Iris-setosa\n",
    "5.3,3.7,1.5,0.2,Iris-setosa\n",
    "5.0,3.3,1.4,0.2,Iris-setosa\n",
    "7.0,3.2,4.7,1.4,Iris-versicolor\n",
    "6.4,3.2,4.5,1.5,Iris-versicolor\n",
    "6.9,3.1,4.9,1.5,Iris-versicolor\n",
    "5.5,2.3,4.0,1.3,Iris-versicolor\n",
    "6.5,2.8,4.6,1.5,Iris-versicolor\n",
    "5.7,2.8,4.5,1.3,Iris-versicolor\n",
    "6.3,3.3,4.7,1.6,Iris-versicolor\n",
    "4.9,2.4,3.3,1.0,Iris-versicolor\n",
    "6.6,2.9,4.6,1.3,Iris-versicolor\n",
    "5.2,2.7,3.9,1.4,Iris-versicolor\n",
    "5.0,2.0,3.5,1.0,Iris-versicolor\n",
    "5.9,3.0,4.2,1.5,Iris-versicolor\n",
    "6.0,2.2,4.0,1.0,Iris-versicolor\n",
    "6.1,2.9,4.7,1.4,Iris-versicolor\n",
    "5.6,2.9,3.6,1.3,Iris-versicolor\n",
    "6.7,3.1,4.4,1.4,Iris-versicolor\n",
    "5.6,3.0,4.5,1.5,Iris-versicolor\n",
    "5.8,2.7,4.1,1.0,Iris-versicolor\n",
    "6.2,2.2,4.5,1.5,Iris-versicolor\n",
    "5.6,2.5,3.9,1.1,Iris-versicolor\n",
    "5.9,3.2,4.8,1.8,Iris-versicolor\n",
    "6.1,2.8,4.0,1.3,Iris-versicolor\n",
    "6.3,2.5,4.9,1.5,Iris-versicolor\n",
    "6.1,2.8,4.7,1.2,Iris-versicolor\n",
    "6.4,2.9,4.3,1.3,Iris-versicolor\n",
    "6.6,3.0,4.4,1.4,Iris-versicolor\n",
    "6.8,2.8,4.8,1.4,Iris-versicolor\n",
    "6.7,3.0,5.0,1.7,Iris-versicolor\n",
    "6.0,2.9,4.5,1.5,Iris-versicolor\n",
    "5.7,2.6,3.5,1.0,Iris-versicolor\n",
    "5.5,2.4,3.8,1.1,Iris-versicolor\n",
    "5.5,2.4,3.7,1.0,Iris-versicolor\n",
    "5.8,2.7,3.9,1.2,Iris-versicolor\n",
    "6.0,2.7,5.1,1.6,Iris-versicolor\n",
    "5.4,3.0,4.5,1.5,Iris-versicolor\n",
    "6.0,3.4,4.5,1.6,Iris-versicolor\n",
    "6.7,3.1,4.7,1.5,Iris-versicolor\n",
    "6.3,2.3,4.4,1.3,Iris-versicolor\n",
    "5.6,3.0,4.1,1.3,Iris-versicolor\n",
    "5.5,2.5,4.0,1.3,Iris-versicolor\n",
    "5.5,2.6,4.4,1.2,Iris-versicolor\n",
    "6.1,3.0,4.6,1.4,Iris-versicolor\n",
    "5.8,2.6,4.0,1.2,Iris-versicolor\n",
    "5.0,2.3,3.3,1.0,Iris-versicolor\n",
    "5.6,2.7,4.2,1.3,Iris-versicolor\n",
    "5.7,3.0,4.2,1.2,Iris-versicolor\n",
    "5.7,2.9,4.2,1.3,Iris-versicolor\n",
    "6.2,2.9,4.3,1.3,Iris-versicolor\n",
    "5.1,2.5,3.0,1.1,Iris-versicolor\n",
    "5.7,2.8,4.1,1.3,Iris-versicolor\n",
    "6.3,3.3,6.0,2.5,Iris-virginica\n",
    "5.8,2.7,5.1,1.9,Iris-virginica\n",
    "7.1,3.0,5.9,2.1,Iris-virginica\n",
    "6.3,2.9,5.6,1.8,Iris-virginica\n",
    "6.5,3.0,5.8,2.2,Iris-virginica\n",
    "7.6,3.0,6.6,2.1,Iris-virginica\n",
    "4.9,2.5,4.5,1.7,Iris-virginica\n",
    "7.3,2.9,6.3,1.8,Iris-virginica\n",
    "6.7,2.5,5.8,1.8,Iris-virginica\n",
    "7.2,3.6,6.1,2.5,Iris-virginica\n",
    "6.5,3.2,5.1,2.0,Iris-virginica\n",
    "6.4,2.7,5.3,1.9,Iris-virginica\n",
    "6.8,3.0,5.5,2.1,Iris-virginica\n",
    "5.7,2.5,5.0,2.0,Iris-virginica\n",
    "5.8,2.8,5.1,2.4,Iris-virginica\n",
    "6.4,3.2,5.3,2.3,Iris-virginica\n",
    "6.5,3.0,5.5,1.8,Iris-virginica\n",
    "7.7,3.8,6.7,2.2,Iris-virginica\n",
    "7.7,2.6,6.9,2.3,Iris-virginica\n",
    "6.0,2.2,5.0,1.5,Iris-virginica\n",
    "6.9,3.2,5.7,2.3,Iris-virginica\n",
    "5.6,2.8,4.9,2.0,Iris-virginica\n",
    "7.7,2.8,6.7,2.0,Iris-virginica\n",
    "6.3,2.7,4.9,1.8,Iris-virginica\n",
    "6.7,3.3,5.7,2.1,Iris-virginica\n",
    "7.2,3.2,6.0,1.8,Iris-virginica\n",
    "6.2,2.8,4.8,1.8,Iris-virginica\n",
    "6.1,3.0,4.9,1.8,Iris-virginica\n",
    "6.4,2.8,5.6,2.1,Iris-virginica\n",
    "7.2,3.0,5.8,1.6,Iris-virginica\n",
    "7.4,2.8,6.1,1.9,Iris-virginica\n",
    "7.9,3.8,6.4,2.0,Iris-virginica\n",
    "6.4,2.8,5.6,2.2,Iris-virginica\n",
    "6.3,2.8,5.1,1.5,Iris-virginica\n",
    "6.1,2.6,5.6,1.4,Iris-virginica\n",
    "7.7,3.0,6.1,2.3,Iris-virginica\n",
    "6.3,3.4,5.6,2.4,Iris-virginica\n",
    "6.4,3.1,5.5,1.8,Iris-virginica\n",
    "6.0,3.0,4.8,1.8,Iris-virginica\n",
    "6.9,3.1,5.4,2.1,Iris-virginica\n",
    "6.7,3.1,5.6,2.4,Iris-virginica\n",
    "6.9,3.1,5.1,2.3,Iris-virginica\n",
    "5.8,2.7,5.1,1.9,Iris-virginica\n",
    "6.8,3.2,5.9,2.3,Iris-virginica\n",
    "6.7,3.3,5.7,2.5,Iris-virginica\n",
    "6.7,3.0,5.2,2.3,Iris-virginica\n",
    "6.3,2.5,5.0,1.9,Iris-virginica\n",
    "6.5,3.0,5.2,2.0,Iris-virginica\n",
    "6.2,3.4,5.4,2.3,Iris-virginica\n",
    "5.9,3.0,5.1,1.8,Iris-virginica\n",
    "%\n",
    "%\n",
    "%\n",
    " to join this conversation on GitHub. Already have an account? Sign in to comment\n",
    "Footer\n",
    "© 2024 GitHub, Inc.\n",
    "Footer navigation\n",
    "Terms\n",
    "Privacy\n",
    "Security\n",
    "Status\n",
    "Docs\n",
    "Contact\n",
    "Manage cookies\n",
    "Do not share my personal information\n"
   ]
  },
  {
   "cell_type": "code",
   "execution_count": null,
   "id": "06251a4d-b480-4620-8582-cb7264950e53",
   "metadata": {
    "editable": true,
    "slideshow": {
     "slide_type": ""
    },
    "tags": []
   },
   "outputs": [],
   "source": []
  },
  {
   "cell_type": "code",
   "execution_count": null,
   "id": "ef9d524c-4649-4304-9f92-2865eec4a957",
   "metadata": {
    "editable": true,
    "slideshow": {
     "slide_type": ""
    },
    "tags": []
   },
   "outputs": [],
   "source": []
  },
  {
   "cell_type": "markdown",
   "id": "03740088-19e8-4209-8d80-a29b81a1a294",
   "metadata": {
    "editable": true,
    "slideshow": {
     "slide_type": ""
    },
    "tags": []
   },
   "source": [
    "## 4. (2.5 pt) O Coeficiente de varia¸cão (CV) é uma medida relativa de variabilidade que independe da unidade de medida utilizada CV = (Desviopadrao/Media). E possível útilizar o CV para selecionar os ”melhores” atributos, ou seja, aqueles que contenham os menores valores de CV. Selecione duas bases de dados do UCI e construa um gráfico (Taxa de erro versus conjunto de atributos) para cada base. Utilize o classificador 1- NN para estimar a taxa de erro. Os conjuntos de atributos ser˜ao formados da seguinte maneira: inicialmente o conjunto irá conter o atributo com o menor CV: no passo seguinte o conjunto irá conter os dois atributos com os menores CVs; e assim por diante até que o conjunto final seja formado por todas os atributos.  \n"
   ]
  },
  {
   "cell_type": "code",
   "execution_count": null,
   "id": "b26423e7-4e69-4788-bb46-322ad377f28c",
   "metadata": {
    "editable": true,
    "slideshow": {
     "slide_type": ""
    },
    "tags": []
   },
   "outputs": [],
   "source": []
  },
  {
   "cell_type": "markdown",
   "id": "5f72de54-f867-497b-b6f8-da5f0d5be81e",
   "metadata": {
    "editable": true,
    "jp-MarkdownHeadingCollapsed": true,
    "slideshow": {
     "slide_type": ""
    },
    "tags": []
   },
   "source": [
    "## 5. (2.0 pt) Classifique o dataset iris usando o classificador DecisionStump. Descreva a saída em texto que o Weka fornece, tentando explicar cada um dos itens (e.x., confusion matrix, etc.). Usando o Weka Explorer, verifique se é possível encontrar um outro classificador que alcance uma taxa de erro menor que o Decision Stump. Caso positivo, diga qual o classificador usado (e.x., uma árvore decisão) "
   ]
  },
  {
   "cell_type": "code",
   "execution_count": null,
   "id": "f0f86fff-ce6a-47a1-b241-2838cf986e29",
   "metadata": {
    "editable": true,
    "slideshow": {
     "slide_type": ""
    },
    "tags": []
   },
   "outputs": [],
   "source": []
  }
 ],
 "metadata": {
  "kernelspec": {
   "display_name": "Python 3 (ipykernel)",
   "language": "python",
   "name": "python3"
  },
  "language_info": {
   "codemirror_mode": {
    "name": "ipython",
    "version": 3
   },
   "file_extension": ".py",
   "mimetype": "text/x-python",
   "name": "python",
   "nbconvert_exporter": "python",
   "pygments_lexer": "ipython3",
   "version": "3.12.4"
  }
 },
 "nbformat": 4,
 "nbformat_minor": 5
}
