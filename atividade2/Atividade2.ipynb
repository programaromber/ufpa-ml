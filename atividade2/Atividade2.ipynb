{
 "cells": [
  {
   "cell_type": "markdown",
   "id": "b6357b7a-f0a8-4b28-a716-1f560a9c2722",
   "metadata": {
    "editable": true,
    "slideshow": {
     "slide_type": ""
    },
    "tags": []
   },
   "source": [
    "# UFPA PPGCC: Aprendizado de Máquina \n",
    "# Aluno: Rafael Barbosa de Salles"
   ]
  },
  {
   "cell_type": "markdown",
   "id": "d63041a1-131b-4f24-a8f1-a446f61702b3",
   "metadata": {
    "editable": true,
    "slideshow": {
     "slide_type": ""
    },
    "tags": []
   },
   "source": [
    "## 1. (1.0 pt) Os dados abaixo se referem a taxas de colesterol total (mg/100ml) de 30 indivíduos. Utilize duas casas decimais para o cálculo.\n",
    "- a. Montar uma tabela de distribuição de frequência por intervalo para as taxas (utilize a regra de Sturges para calcular o número de classes intervalos).\n",
    "\n",
    "- b. Calcule o histograma\n",
    "\n",
    "- c. Calcule as frequências relativas, às frequências acumuladas absolutas e relativivas e os pontos médios para todas as classes\n",
    "  \n",
    "- d. Calcule a taxa de colesterol média\n",
    "  \n",
    "- e. Calcule a taxa de colesterol mediana\n",
    "\n",
    "- f. Calcule a variância e o desvio padrão amostralostral\n",
    "\n"
   ]
  },
  {
   "cell_type": "code",
   "id": "8a1f4e66-a888-4e5a-bff2-a06bbd087bb0",
   "metadata": {
    "editable": true,
    "slideshow": {
     "slide_type": ""
    },
    "tags": [],
    "ExecuteTime": {
     "end_time": "2024-08-28T03:38:27.277350Z",
     "start_time": "2024-08-28T03:38:27.264702Z"
    }
   },
   "source": [
    "\n",
    "## Lista de registros\n",
    "registros = [140,160,168,180,180,180,180,184,185,190,190,192,192,196,200,200,200,205,205,208,214,214,220,220,225,230,240,260,280,315]\n",
    "\n",
    "dados = [(1, 140),(2, 160),(3, 168),(4, 180),(5, 180),(6, 180),(7, 180),(8, 184),(9, 185),(10, 190),(11, 190),(12, 192),(13, 192),(14, 196),(15, 200),(16, 200),(17, 200),(18, 205),(19, 205),(20, 208),(21, 214),(22, 214),(23, 220),(24, 220),(25, 225),(26, 230),(27, 240),(28, 260),(29, 280),(30, 315)]\n",
    "\n",
    "\n",
    "# Criando um DataFrame a partir dos dados\n",
    "import pandas as pd\n",
    "dataframe = pd.DataFrame(dados, columns=['Identificador', 'Colesterol'])\n",
    "\n",
    "# Ordenando por Valor\n",
    "df_ordenado = dataframe.sort_values('Colesterol')\n",
    "\n",
    "# Convertendo para float\n",
    "dataframe['Colesterol'] = dataframe['Colesterol'].astype(float)\n",
    "\n",
    "# incluir nova coluna\n",
    "# dataframe['Novo_Valor'] = dataframe['Colesterol'] + 1\n",
    "\n",
    "print(df_ordenado)"
   ],
   "outputs": [
    {
     "name": "stdout",
     "output_type": "stream",
     "text": [
      "    Identificador  Colesterol\n",
      "0               1         140\n",
      "1               2         160\n",
      "2               3         168\n",
      "3               4         180\n",
      "4               5         180\n",
      "5               6         180\n",
      "6               7         180\n",
      "7               8         184\n",
      "8               9         185\n",
      "9              10         190\n",
      "10             11         190\n",
      "11             12         192\n",
      "12             13         192\n",
      "13             14         196\n",
      "16             17         200\n",
      "14             15         200\n",
      "15             16         200\n",
      "17             18         205\n",
      "18             19         205\n",
      "19             20         208\n",
      "20             21         214\n",
      "21             22         214\n",
      "22             23         220\n",
      "23             24         220\n",
      "24             25         225\n",
      "25             26         230\n",
      "26             27         240\n",
      "27             28         260\n",
      "28             29         280\n",
      "29             30         315\n"
     ]
    }
   ],
   "execution_count": 44
  },
  {
   "cell_type": "code",
   "id": "2e5fe760-dc8f-4abc-a893-92872bdd4951",
   "metadata": {
    "editable": true,
    "slideshow": {
     "slide_type": ""
    },
    "tags": [],
    "ExecuteTime": {
     "end_time": "2024-08-28T04:00:34.706379Z",
     "start_time": "2024-08-28T04:00:34.690426Z"
    }
   },
   "source": [
    "# Distribuiçãop de frequência\n",
    "import numpy as np\n",
    "\n",
    "# Calculando o número de classes pela regra de Sturges\n",
    "# Regra de Sturges (Regra do logaritmo): k = 1 + 3,3 log(n)\n",
    "# Regra da potência de 2: k= menor valor inteiro tal que 2 k ≥ n\n",
    "# Regra da raiz quadrada: K = √n\n",
    "num_classes = int(np.ceil(1 + np.log2(len(dataframe))))\n",
    "\n",
    "# Criando os intervalos e contando a frequência\n",
    "dataframe['Intervalo'] = pd.cut(dataframe['Colesterol'], bins=num_classes)\n",
    "freq_distribuicao = dataframe['Intervalo'].value_counts().sort_index()\n",
    "\n",
    "# Criando um DataFrame com a distribuição de frequência\n",
    "frequencia = pd.DataFrame({'Intervalo': freq_distribuicao.index, 'Frequência Absoluta': freq_distribuicao.values})\n",
    "\n",
    "print(frequencia)\n",
    "print(\"Frequencia absoluta total: \", freq_distribuicao.values.sum())\n",
    "\n",
    "print(\"\\nNúmero de classes: \", num_classes)\n",
    "\n",
    "# Imprimir o primeiro registro\n",
    "print(\"Primeiro registro:\", dataframe['Colesterol'].iloc[0])\n",
    "# Imprimir o último registro\n",
    "print(\"Último registro:\", dataframe['Colesterol'].iloc[-1])\n",
    "# Imprimir o último registro\n",
    "amplitude_conjunto = dataframe['Colesterol'].iloc[-1]-dataframe['Colesterol'].iloc[0]\n",
    "print(f\"Amplitude do Conjunto: {amplitude_conjunto}m\")\n",
    "amplitude_classes = amplitude_conjunto/num_classes\n",
    "print(f\"Amplitude de classes: {amplitude_classes}m\")"
   ],
   "outputs": [
    {
     "name": "stdout",
     "output_type": "stream",
     "text": [
      "            Intervalo  Frequência Absoluta\n",
      "0  (139.825, 169.167]                    3\n",
      "1  (169.167, 198.333]                   11\n",
      "2    (198.333, 227.5]                   11\n",
      "3    (227.5, 256.667]                    2\n",
      "4  (256.667, 285.833]                    2\n",
      "5    (285.833, 315.0]                    1\n",
      "Frequencia absoluta total:  30\n",
      "\n",
      "Número de classes:  6\n",
      "Primeiro registro: 140.0\n",
      "Último registro: 315.0\n",
      "Amplitude do Conjunto: 175.0m\n",
      "Amplitude de classes: 29.166666666666668m\n"
     ]
    }
   ],
   "execution_count": 75
  },
  {
   "cell_type": "code",
   "id": "2fa8597c-d9dd-4a1e-9482-14cf17ae86f5",
   "metadata": {
    "editable": true,
    "slideshow": {
     "slide_type": ""
    },
    "tags": [],
    "ExecuteTime": {
     "end_time": "2024-08-28T04:00:59.632881Z",
     "start_time": "2024-08-28T04:00:59.445899Z"
    }
   },
   "source": [
    "import matplotlib.pyplot as plt\n",
    "\n",
    "# Extraindo os limites dos intervalos para o eixo x do histograma\n",
    "intervalos_meio = frequencia['Intervalo'].map(lambda x: x.left + (x.right - x.left) / 2) \n",
    "\n",
    "# Criando o histograma\n",
    "plt.bar(intervalos_meio, frequencia['Frequência Absoluta'])\n",
    "plt.xlabel('Registros - Intervalo de Colesterol')\n",
    "plt.ylabel('Classes - Frequência')\n",
    "plt.title('Distribuição de Frequência do Colesterol')\n",
    "plt.xticks(rotation=45)  # Rotaciona os rótulos do eixo x para melhor visualização\n",
    "plt.show()\n"
   ],
   "outputs": [
    {
     "data": {
      "text/plain": [
       "<Figure size 640x480 with 1 Axes>"
      ],
      "image/png": "[encoded data removed]"
     },
     "metadata": {},
     "output_type": "display_data"
    }
   ],
   "execution_count": 77
  },
  {
   "cell_type": "code",
   "id": "5efa4973-fcef-4c6f-a651-79eae614f7cb",
   "metadata": {
    "editable": true,
    "slideshow": {
     "slide_type": ""
    },
    "tags": [],
    "ExecuteTime": {
     "end_time": "2024-08-28T01:04:44.275303Z",
     "start_time": "2024-08-28T01:04:44.256629Z"
    }
   },
   "source": [
    "# Calculando a frequência relativa\n",
    "frequencia['Frequência Relativa'] = frequencia['Frequência'] / frequencia['Frequência'].sum()\n",
    "\n",
    "# Calculando a frequência acumulada absoluta\n",
    "frequencia['Frequência Acumulada Absoluta'] = frequencia['Frequência'].cumsum()\n",
    "\n",
    "# Calculando a frequência acumulada relativa\n",
    "frequencia['Frequência Acumulada Relativa'] = frequencia['Frequência Acumulada Absoluta'] / frequencia['Frequência'].sum()\n",
    "\n",
    "# Calculando o ponto médio de cada intervalo\n",
    "frequencia['Ponto Médio'] = frequencia['Intervalo'].map(lambda x: x.mid)\n",
    "\n",
    "\n",
    "print(frequencia)"
   ],
   "outputs": [
    {
     "name": "stdout",
     "output_type": "stream",
     "text": [
      "            Intervalo  Frequência  Frequência Relativa  \\\n",
      "0  (139.825, 169.167]           3             0.100000   \n",
      "1  (169.167, 198.333]          11             0.366667   \n",
      "2    (198.333, 227.5]          11             0.366667   \n",
      "3    (227.5, 256.667]           2             0.066667   \n",
      "4  (256.667, 285.833]           2             0.066667   \n",
      "5    (285.833, 315.0]           1             0.033333   \n",
      "\n",
      "   Frequência Acumulada Absoluta  Frequência Acumulada Relativa Ponto Médio  \n",
      "0                              3                       0.100000    154.4960  \n",
      "1                             14                       0.466667    183.7500  \n",
      "2                             25                       0.833333    212.9165  \n",
      "3                             27                       0.900000    242.0835  \n",
      "4                             29                       0.966667    271.2500  \n",
      "5                             30                       1.000000    300.4165  \n"
     ]
    }
   ],
   "execution_count": 6
  },
  {
   "cell_type": "code",
   "id": "d1cd2306-3e7c-4026-b9c2-7006c27071b1",
   "metadata": {
    "editable": true,
    "slideshow": {
     "slide_type": ""
    },
    "tags": [],
    "ExecuteTime": {
     "end_time": "2024-08-28T01:05:59.514061Z",
     "start_time": "2024-08-28T01:05:59.502966Z"
    }
   },
   "source": [
    "# Calculando a média, mediana, variância e desvio padrão\n",
    "media = dataframe['Colesterol'].mean()\n",
    "mediana = dataframe['Colesterol'].median()\n",
    "variancia = dataframe['Colesterol'].var()\n",
    "desvio_padrao = dataframe['Colesterol'].std()\n",
    "\n",
    "print(f\"Média: {media:.2f}\")\n",
    "print(f\"Mediana: {mediana:.2f}\")\n",
    "print(f\"Variância: {variancia:.2f}\")\n",
    "print(f\"Desvio Padrão: {desvio_padrao:.2f}\")"
   ],
   "outputs": [
    {
     "name": "stdout",
     "output_type": "stream",
     "text": [
      "Média: 205.10\n",
      "Mediana: 200.00\n",
      "Variância: 1224.99\n",
      "Desvio Padrão: 35.00\n"
     ]
    }
   ],
   "execution_count": 8
  },
  {
   "cell_type": "markdown",
   "id": "903306f9-3aae-475b-b61d-8a8533852a57",
   "metadata": {
    "editable": true,
    "jp-MarkdownHeadingCollapsed": true,
    "slideshow": {
     "slide_type": ""
    },
    "tags": []
   },
   "source": [
    "## 2. (1.5 pt) Considere que os valores assumidos por um dado atributo numérico são listados no vetor x = {1, 3, 2, 3, 2, 2, 0, 1, 0, 0, 3, 0, 2, 3, 2, 2, 3, 3, 0, 3, 2, 0}.\n",
    "- a) Calcule o histograma de x (utilize o bom senso para definir o número de classes). \n",
    "- b) Supondo que tais valores correspondem aos assumidos em um experimento por uma variável aleatória X, estime sua média E[X] = µ, E[X2], variância σx2, o desvio padrão σx e o desvio médio absoluto.\n",
    "- c) X é uma variável aleatória ou contínua?"
   ]
  },
  {
   "cell_type": "code",
   "id": "1348efe5-59a6-440b-b58e-dc8d84b1d52d",
   "metadata": {
    "editable": true,
    "slideshow": {
     "slide_type": ""
    },
    "tags": [],
    "ExecuteTime": {
     "end_time": "2024-08-28T01:06:14.165655Z",
     "start_time": "2024-08-28T01:06:14.150204Z"
    }
   },
   "source": [
    "\n",
    "## Lista de registros\n",
    "dados_x = [1, 3, 2, 3, 2, 2, 0, 1, 0, 0, 3, 0, 2, 3, 2, 2, 3, 3, 0, 3, 2, 0]\n",
    "\n",
    "# Criando um DataFrame a partir dos dados\n",
    "import pandas as pd\n",
    "df_x = pd.DataFrame(dados_x, columns=['Valor'])\n",
    "\n",
    "# Ordenando por Valor\n",
    "df_x_ordenado = df_x.sort_values('Valor')\n",
    "\n",
    "print(df_x_ordenado)"
   ],
   "outputs": [
    {
     "name": "stdout",
     "output_type": "stream",
     "text": [
      "    Valor\n",
      "21      0\n",
      "18      0\n",
      "11      0\n",
      "9       0\n",
      "8       0\n",
      "6       0\n",
      "7       1\n",
      "0       1\n",
      "4       2\n",
      "20      2\n",
      "2       2\n",
      "12      2\n",
      "14      2\n",
      "15      2\n",
      "5       2\n",
      "3       3\n",
      "13      3\n",
      "16      3\n",
      "17      3\n",
      "1       3\n",
      "19      3\n",
      "10      3\n"
     ]
    }
   ],
   "execution_count": 9
  },
  {
   "cell_type": "code",
   "id": "5d715144-208b-4789-b40a-258be192fdfb",
   "metadata": {
    "editable": true,
    "slideshow": {
     "slide_type": ""
    },
    "tags": [],
    "ExecuteTime": {
     "end_time": "2024-08-28T01:07:25.710836Z",
     "start_time": "2024-08-28T01:07:25.698966Z"
    }
   },
   "source": [
    "# Distribuição de frequência\n",
    "\n",
    "# Calculando o número de classes pela regra de Sturges (adaptada para dados discretos)\n",
    "num_classes = len(df_x['Valor'].unique())\n",
    "\n",
    "# Criando os intervalos e contando a frequência\n",
    "# Como os dados são discretos, os intervalos serão os próprios valores únicos\n",
    "frequencia_valor = df_x['Valor'].value_counts().sort_index()\n",
    "\n",
    "# Criando um DataFrame com a distribuição de frequência\n",
    "distribuicao_frequencia = pd.DataFrame({'Valor': frequencia_valor.index, 'Frequência': frequencia_valor.values})\n",
    "\n",
    "print(distribuicao_frequencia)"
   ],
   "outputs": [
    {
     "name": "stdout",
     "output_type": "stream",
     "text": [
      "   Valor  Frequência\n",
      "0      0           6\n",
      "1      1           2\n",
      "2      2           7\n",
      "3      3           7\n"
     ]
    }
   ],
   "execution_count": 11
  },
  {
   "cell_type": "code",
   "id": "31f77312-bc24-4994-8327-3acfdcf54d4f",
   "metadata": {
    "editable": true,
    "slideshow": {
     "slide_type": ""
    },
    "tags": [],
    "ExecuteTime": {
     "end_time": "2024-08-28T01:07:55.000654Z",
     "start_time": "2024-08-28T01:07:54.795855Z"
    }
   },
   "source": [
    "# Criando o histograma\n",
    "plt.bar(distribuicao_frequencia['Valor'], distribuicao_frequencia['Frequência'])\n",
    "plt.xlabel('Valor')\n",
    "plt.ylabel('Frequência')\n",
    "plt.title('Distribuição de Frequência dos Valores')\n",
    "plt.xticks(distribuicao_frequencia['Valor'])  # Garante que todos os valores apareçam no eixo x\n",
    "plt.show()"
   ],
   "outputs": [
    {
     "data": {
      "text/plain": [
       "<Figure size 640x480 with 1 Axes>"
      ],
      "image/png": "[encoded data removed]"
     },
     "metadata": {},
     "output_type": "display_data"
    }
   ],
   "execution_count": 12
  },
  {
   "cell_type": "code",
   "id": "f6502359-70f2-48c9-9f7c-31c3afb350be",
   "metadata": {
    "editable": true,
    "slideshow": {
     "slide_type": ""
    },
    "tags": [],
    "ExecuteTime": {
     "end_time": "2024-08-28T01:08:17.579606Z",
     "start_time": "2024-08-28T01:08:17.565335Z"
    }
   },
   "source": [
    "# Calculando as medidas\n",
    "media_x = df_x['Valor'].mean()\n",
    "variancia_x = df_x['Valor'].var()\n",
    "desvio_padrao_x = df_x['Valor'].std()\n",
    "\n",
    "# Calculando o quadrado da média\n",
    "media_quadrado = media**2\n",
    "\n",
    "# Calculando o valor esperado de X^2\n",
    "ex2 = (df_x['Valor']**2).mean()\n",
    "\n",
    "# Calculando o desvio médio absoluto\n",
    "desvio_medio_absoluto_x = np.mean(np.abs(df_x['Valor'] - media))\n",
    "\n",
    "print(f\"Média (E[X]): {media_x:.2f}\")\n",
    "print(f\"E[X^2]: {ex2:.2f}\")\n",
    "print(f\"Variância (σ^2): {variancia_x:.2f}\")\n",
    "print(f\"Desvio Padrão (σ): {desvio_padrao_x:.2f}\")\n",
    "print(f\"Desvio Médio Absoluto: {desvio_medio_absoluto_x:.2f}\")\n",
    "print(\"X é uma variável aleatória\")\n"
   ],
   "outputs": [
    {
     "name": "stdout",
     "output_type": "stream",
     "text": [
      "Média (E[X]): 1.68\n",
      "E[X^2]: 4.23\n",
      "Variância (σ^2): 1.47\n",
      "Desvio Padrão (σ): 1.21\n",
      "Desvio Médio Absoluto: 203.42\n",
      "X é uma variável aleatória\n"
     ]
    }
   ],
   "execution_count": 13
  },
  {
   "cell_type": "markdown",
   "id": "0ddbe6be-9455-45a9-afcd-4addc200fe2f",
   "metadata": {
    "editable": true,
    "slideshow": {
     "slide_type": ""
    },
    "tags": []
   },
   "source": [
    "## 3. (2.0 pt) Use um editor de texto ASCII para verificar o conteúdo do arquivo iris.arff (o qual vem com Weka). Estude-o também usando a GUI chamada Explorer do pacote Weka. Copie a iris.arff para um novo arquivo chamado iris.csv, elimine o header (primeiras linhas, antes de @data), e leia o arquivo iris.cvs no Excel. Escreva código em Java ou outra linguagem de sua preferência para calcular a variância do terceiro parâmetro (terceiro elemento de x) a partir da leitura do arquivo iris.csv. Compare o resultado com as variâncias estimadas pelos programas Weka e Excel. Inclua a listagem de seu código.\n",
    "\n"
   ]
  },
  {
   "cell_type": "code",
   "id": "06251a4d-b480-4620-8582-cb7264950e53",
   "metadata": {
    "editable": true,
    "slideshow": {
     "slide_type": ""
    },
    "tags": [],
    "ExecuteTime": {
     "end_time": "2024-08-28T01:11:52.526268Z",
     "start_time": "2024-08-28T01:11:52.465483Z"
    }
   },
   "source": [
    "import pandas as pd\n",
    "from scipy.io import arff\n",
    "dadosiris, metairis = arff.loadarff('data/iris.arff') \n",
    "\n",
    "df_iris = pd.DataFrame(dadosiris)\n",
    "# Verificando os tipos de dados de cada coluna\n",
    "print(\"Types\\n\")\n",
    "print(df_iris.dtypes)\n",
    "\n",
    "print(\"\\nData\\n\")\n",
    "print(df_iris)\n",
    "\n",
    "print(\"\\nData Static Resume\\n\")\n",
    "print(df_iris.describe())\n",
    "\n",
    "# Calculando a variância e o desvio padrão do sepallength\n",
    "variancia_sepallength = df_iris['sepallength'].var()\n",
    "desvio_padrao_sepallength = df_iris['sepallength'].std()\n",
    "print(\"\\n\")\n",
    "print(\"A variância do sepallength   é:\", variancia_sepallength)\n",
    "print(\"O desvio padrão do sepallength   é:\", desvio_padrao_sepallength)\n",
    "\n",
    "# Calculando a variância e o desvio padrão do sepalwidth\n",
    "variancia_sepalwidth = df_iris['sepalwidth'].var()\n",
    "desvio_padrao_sepalwidth = df_iris['sepalwidth'].std()\n",
    "print(\"\\n\")\n",
    "print(\"A variância do sepalwidth   é:\", variancia_sepalwidth)\n",
    "print(\"O desvio padrão do sepalwidth   é:\", desvio_padrao_sepalwidth)\n",
    "\n",
    "# Calculando a variância e o desvio padrão do petallength\n",
    "variancia_petallength = df_iris['petallength'].var()\n",
    "desvio_padrao_petallength = df_iris['petallength'].std()\n",
    "print(\"\\n\")\n",
    "print(\"A variância do petallength é:\", variancia_petallength)\n",
    "print(\"O desvio padrão do petallength é:\", desvio_padrao_petallength)\n",
    "\n",
    "# Calculando a variância e o desvio padrão do petalwidth\n",
    "variancia_petalwidth = df_iris['petalwidth'].var()\n",
    "desvio_padrao_petalwidth = df_iris['petalwidth'].std()\n",
    "print(\"\\n\")\n",
    "print(\"A variância do petalwidth é:\", variancia_petalwidth)\n",
    "print(\"O desvio padrão do petalwidth é:\", desvio_padrao_petalwidth)\n",
    "\n",
    "\n"
   ],
   "outputs": [
    {
     "name": "stdout",
     "output_type": "stream",
     "text": [
      "Types\n",
      "\n",
      "sepallength    float64\n",
      "sepalwidth     float64\n",
      "petallength    float64\n",
      "petalwidth     float64\n",
      "class           object\n",
      "dtype: object\n",
      "\n",
      "Data\n",
      "\n",
      "     sepallength  sepalwidth  petallength  petalwidth              class\n",
      "0            5.1         3.5          1.4         0.2     b'Iris-setosa'\n",
      "1            4.9         3.0          1.4         0.2     b'Iris-setosa'\n",
      "2            4.7         3.2          1.3         0.2     b'Iris-setosa'\n",
      "3            4.6         3.1          1.5         0.2     b'Iris-setosa'\n",
      "4            5.0         3.6          1.4         0.2     b'Iris-setosa'\n",
      "..           ...         ...          ...         ...                ...\n",
      "145          6.7         3.0          5.2         2.3  b'Iris-virginica'\n",
      "146          6.3         2.5          5.0         1.9  b'Iris-virginica'\n",
      "147          6.5         3.0          5.2         2.0  b'Iris-virginica'\n",
      "148          6.2         3.4          5.4         2.3  b'Iris-virginica'\n",
      "149          5.9         3.0          5.1         1.8  b'Iris-virginica'\n",
      "\n",
      "[150 rows x 5 columns]\n",
      "\n",
      "Data Static Resume\n",
      "\n",
      "       sepallength  sepalwidth  petallength  petalwidth\n",
      "count   150.000000  150.000000   150.000000  150.000000\n",
      "mean      5.843333    3.054000     3.758667    1.198667\n",
      "std       0.828066    0.433594     1.764420    0.763161\n",
      "min       4.300000    2.000000     1.000000    0.100000\n",
      "25%       5.100000    2.800000     1.600000    0.300000\n",
      "50%       5.800000    3.000000     4.350000    1.300000\n",
      "75%       6.400000    3.300000     5.100000    1.800000\n",
      "max       7.900000    4.400000     6.900000    2.500000\n",
      "\n",
      "\n",
      "A variância do sepallength   é: 0.6856935123042505\n",
      "O desvio padrão do sepallength   é: 0.8280661279778629\n",
      "\n",
      "\n",
      "A variância do sepalwidth   é: 0.18800402684563763\n",
      "O desvio padrão do sepalwidth   é: 0.4335943113621737\n",
      "\n",
      "\n",
      "A variância do petallength é: 3.1131794183445156\n",
      "O desvio padrão do petallength é: 1.7644204199522617\n",
      "\n",
      "\n",
      "A variância do petalwidth é: 0.5824143176733784\n",
      "O desvio padrão do petalwidth é: 0.7631607417008414\n"
     ]
    }
   ],
   "execution_count": 16
  },
  {
   "cell_type": "markdown",
   "id": "03740088-19e8-4209-8d80-a29b81a1a294",
   "metadata": {
    "editable": true,
    "slideshow": {
     "slide_type": ""
    },
    "tags": []
   },
   "source": [
    "## 4. (2.5 pt) O Coeficiente de variação (CV) é uma medida relativa de variabilidade que independe da unidade de medida utilizada CV = (Desviopadrao/Media). E possível útilizar o CV para selecionar os ”melhores” atributos, ou seja, aqueles que contenham os menores valores de CV. Selecione duas bases de dados do UCI e construa um gráfico (Taxa de erro versus conjunto de atributos) para cada base. Utilize o classificador 1- NN para estimar a taxa de erro. Os conjuntos de atributos ser˜ao formados da seguinte maneira: inicialmente o conjunto irá conter o atributo com o menor CV: no passo seguinte o conjunto irá conter os dois atributos com os menores CVs; e assim por diante até que o conjunto final seja formado por todas os atributos.  "
   ]
  },
  {
   "cell_type": "markdown",
   "id": "3bb7b39c-dd2c-4ade-9867-d35ac23eb276",
   "metadata": {},
   "source": [
    "### Individual Household Electric Power Consumption\n",
    "https://archive.ics.uci.edu/dataset/235/individual+household+electric+power+consumption"
   ]
  },
  {
   "cell_type": "code",
   "id": "6b180b63-4e40-4b0e-b7df-a62d137b6cb5",
   "metadata": {
    "ExecuteTime": {
     "end_time": "2024-08-28T02:47:44.406358Z",
     "start_time": "2024-08-28T02:47:43.994835Z"
    }
   },
   "source": [
    "import pandas as pd\n",
    "dados_hcp = pd.read_csv('data/household_power_consumption-reduzido.csv', sep=';')\n",
    "\n",
    "# Converter colunas específicas para float, exceto 'Date' e 'Time'\n",
    "colunas_para_converter = ['Global_active_power', 'Global_reactive_power', 'Voltage', 'Global_intensity', 'Sub_metering_1', 'Sub_metering_2']\n",
    "# Aplicar a conversão\n",
    "dados_hcp[colunas_para_converter] = dados_hcp[colunas_para_converter].apply(pd.to_numeric, errors='coerce')\n",
    "\n",
    "# Verificando os tipos de dados de cada coluna\n",
    "print(\"Types\\n\")\n",
    "print(dados_hcp.dtypes)\n",
    "\n",
    "print(\"\\nData Static Resume\\n\")\n",
    "print(dados_hcp.describe())\n",
    "\n",
    "print(\"\\nData\\n\")\n",
    "print(dados_hcp.head())"
   ],
   "outputs": [
    {
     "name": "stdout",
     "output_type": "stream",
     "text": [
      "Types\n",
      "\n",
      "Date                      object\n",
      "Time                      object\n",
      "Global_active_power      float64\n",
      "Global_reactive_power    float64\n",
      "Voltage                  float64\n",
      "Global_intensity         float64\n",
      "Sub_metering_1           float64\n",
      "Sub_metering_2           float64\n",
      "Sub_metering_3           float64\n",
      "dtype: object\n",
      "\n",
      "Data Static Resume\n",
      "\n",
      "       Global_active_power  Global_reactive_power       Voltage  \\\n",
      "count         39071.000000           39071.000000  39071.000000   \n",
      "mean              1.701501               0.135054    241.181369   \n",
      "std               1.348417               0.118074      3.651219   \n",
      "min               0.194000               0.000000    226.320000   \n",
      "25%               0.404000               0.046000    238.690000   \n",
      "50%               1.452000               0.126000    241.400000   \n",
      "75%               2.474000               0.197000    243.790000   \n",
      "max               9.132000               0.862000    251.700000   \n",
      "\n",
      "       Global_intensity  Sub_metering_1  Sub_metering_2  Sub_metering_3  \n",
      "count      39071.000000    39071.000000    39071.000000    39071.000000  \n",
      "mean           7.189348        0.950935        1.997364        7.055105  \n",
      "std            5.663946        5.784601        7.994663        8.589415  \n",
      "min            0.800000        0.000000        0.000000        0.000000  \n",
      "25%            1.800000        0.000000        0.000000        0.000000  \n",
      "50%            6.000000        0.000000        0.000000        0.000000  \n",
      "75%           10.200000        0.000000        1.000000       17.000000  \n",
      "max           39.400000       77.000000       75.000000       20.000000  \n",
      "\n",
      "Data\n",
      "\n",
      "         Date      Time  Global_active_power  Global_reactive_power  Voltage  \\\n",
      "0  16/12/2006  17:24:00                4.216                  0.418   234.84   \n",
      "1  16/12/2006  17:25:00                5.360                  0.436   233.63   \n",
      "2  16/12/2006  17:26:00                5.374                  0.498   233.29   \n",
      "3  16/12/2006  17:27:00                5.388                  0.502   233.74   \n",
      "4  16/12/2006  17:28:00                3.666                  0.528   235.68   \n",
      "\n",
      "   Global_intensity  Sub_metering_1  Sub_metering_2  Sub_metering_3  \n",
      "0              18.4             0.0             1.0            17.0  \n",
      "1              23.0             0.0             1.0            16.0  \n",
      "2              23.0             0.0             2.0            17.0  \n",
      "3              23.0             0.0             1.0            17.0  \n",
      "4              15.8             0.0             1.0            17.0  \n"
     ]
    }
   ],
   "execution_count": 3
  },
  {
   "metadata": {
    "ExecuteTime": {
     "end_time": "2024-08-28T03:10:16.099756Z",
     "start_time": "2024-08-28T03:10:16.092101Z"
    }
   },
   "cell_type": "code",
   "source": [
    "# Calculando a média e desvio padrão - Global_active_power\n",
    "gap_media = dados_hcp['Global_active_power'].mean()\n",
    "gap_desvio_padrao = dados_hcp['Global_active_power'].std()\n",
    "gap_cv = gap_desvio_padrao/gap_media\n",
    "print(f\"Global_active_power - Média: {gap_media:.2f}\")\n",
    "print(f\"Global_active_power - Desvio Padrão: {gap_desvio_padrao:.2f}\")\n",
    "print(f\"Global_active_power - Coeficiente de variação: {gap_cv:.2f}\")"
   ],
   "id": "be0b29cebf062a08",
   "outputs": [
    {
     "name": "stdout",
     "output_type": "stream",
     "text": [
      "Global_active_power - Média: 1.70\n",
      "Global_active_power - Desvio Padrão: 1.35\n",
      "Global_active_power - Coeficiente de variação: 0.79\n"
     ]
    }
   ],
   "execution_count": 25
  },
  {
   "metadata": {
    "ExecuteTime": {
     "end_time": "2024-08-28T03:10:08.621440Z",
     "start_time": "2024-08-28T03:10:08.611912Z"
    }
   },
   "cell_type": "code",
   "source": [
    "# Calculando a média e desvio padrão - Global_reactive_power\n",
    "grp_media = dados_hcp['Global_reactive_power'].mean()\n",
    "grp_desvio_padrao = dados_hcp['Global_reactive_power'].std()\n",
    "grp_cv = grp_desvio_padrao/grp_media\n",
    "print(f\"Global_reactive_power - Média: {grp_media:.2f}\")\n",
    "print(f\"Global_reactive_power - Desvio Padrão: {grp_desvio_padrao:.2f}\")\n",
    "print(f\"Global_reactive_power - Coeficiente de variação: {grp_cv:.2f}\")"
   ],
   "id": "20506a03b0c4bc75",
   "outputs": [
    {
     "name": "stdout",
     "output_type": "stream",
     "text": [
      "Global_reactive_power - Média: 0.14\n",
      "Global_reactive_power - Desvio Padrão: 0.12\n",
      "Global_reactive_power - Coeficiente de variação: 0.87\n"
     ]
    }
   ],
   "execution_count": 24
  },
  {
   "metadata": {
    "ExecuteTime": {
     "end_time": "2024-08-28T03:10:02.424968Z",
     "start_time": "2024-08-28T03:10:02.416112Z"
    }
   },
   "cell_type": "code",
   "source": [
    "# Calculando a média e desvio padrão - Voltage\n",
    "voltage_media = dados_hcp['Voltage'].mean()\n",
    "voltage_desvio_padrao = dados_hcp['Voltage'].std()\n",
    "voltage_cv = voltage_desvio_padrao/voltage_media\n",
    "print(f\"Voltage - Média: {voltage_media:.2f}\")\n",
    "print(f\"Voltage - Desvio Padrão: {voltage_desvio_padrao:.2f}\")\n",
    "print(f\"Voltage - Coeficiente de variação: {voltage_cv:.2f}\")"
   ],
   "id": "90f6badfa58044ac",
   "outputs": [
    {
     "name": "stdout",
     "output_type": "stream",
     "text": [
      "Voltage - Média: 241.18\n",
      "Voltage - Desvio Padrão: 3.65\n",
      "Voltage - Coeficiente de variação: 0.02\n"
     ]
    }
   ],
   "execution_count": 23
  },
  {
   "metadata": {
    "ExecuteTime": {
     "end_time": "2024-08-28T03:09:56.951371Z",
     "start_time": "2024-08-28T03:09:56.942847Z"
    }
   },
   "cell_type": "code",
   "source": [
    "# Calculando a média e desvio padrão - Global_intensity\n",
    "gi_media = dados_hcp['Global_intensity'].mean()\n",
    "gi_desvio_padrao = dados_hcp['Global_intensity'].std()\n",
    "gi_cv = gi_desvio_padrao/gi_media\n",
    "print(f\"Global_intensity - Média: {gi_media:.2f}\")\n",
    "print(f\"Global_intensity - Desvio Padrão: {gi_desvio_padrao:.2f}\")\n",
    "print(f\"Global_intensity - Coeficiente de variação: {gi_cv:.2f}\")"
   ],
   "id": "ca6d5163a6364ffa",
   "outputs": [
    {
     "name": "stdout",
     "output_type": "stream",
     "text": [
      "Global_intensity - Média: 7.19\n",
      "Global_intensity - Desvio Padrão: 5.66\n",
      "Global_intensity - Coeficiente de variação: 0.79\n"
     ]
    }
   ],
   "execution_count": 22
  },
  {
   "metadata": {
    "ExecuteTime": {
     "end_time": "2024-08-28T03:09:48.456474Z",
     "start_time": "2024-08-28T03:09:48.447950Z"
    }
   },
   "cell_type": "code",
   "source": [
    "# Calculando a média e desvio padrão - Sub_metering_1\n",
    "sm1_media = dados_hcp['Sub_metering_1'].mean()\n",
    "sm1_desvio_padrao = dados_hcp['Sub_metering_1'].std()\n",
    "sm1_cv = sm1_desvio_padrao/sm1_media\n",
    "print(f\"Sub_metering_1 - Média: {sm1_media:.2f}\")\n",
    "print(f\"Sub_metering_1 - Desvio Padrão: {sm1_desvio_padrao:.2f}\")\n",
    "print(f\"Sub_metering_1 - Coeficiente de variação: {sm1_cv:.2f}\")"
   ],
   "id": "6ade47f44f3a8099",
   "outputs": [
    {
     "name": "stdout",
     "output_type": "stream",
     "text": [
      "Sub_metering_1 - Média: 0.95\n",
      "Sub_metering_1 - Desvio Padrão: 5.78\n",
      "Sub_metering_1 - Coeficiente de variação: 6.08\n"
     ]
    }
   ],
   "execution_count": 21
  },
  {
   "metadata": {
    "ExecuteTime": {
     "end_time": "2024-08-28T03:09:43.764017Z",
     "start_time": "2024-08-28T03:09:43.755285Z"
    }
   },
   "cell_type": "code",
   "source": [
    "# Calculando a média e desvio padrão - Sub_metering_2\n",
    "sm2_media = dados_hcp['Sub_metering_2'].mean()\n",
    "sm2_desvio_padrao = dados_hcp['Sub_metering_2'].std()\n",
    "sm2_cv = sm2_desvio_padrao/sm2_media\n",
    "print(f\"Sub_metering_2 - Média: {sm2_media:.2f}\")\n",
    "print(f\"Sub_metering_2 - Desvio Padrão: {sm2_desvio_padrao:.2f}\")\n",
    "print(f\"Sub_metering_2 - Coeficiente de variação: {sm2_cv:.2f}\")"
   ],
   "id": "a91d7c0c8367d119",
   "outputs": [
    {
     "name": "stdout",
     "output_type": "stream",
     "text": [
      "Sub_metering_2 - Média: 2.00\n",
      "Sub_metering_2 - Desvio Padrão: 7.99\n",
      "Sub_metering_2 - Coeficiente de variação: 4.00\n"
     ]
    }
   ],
   "execution_count": 20
  },
  {
   "metadata": {
    "ExecuteTime": {
     "end_time": "2024-08-28T03:09:36.043669Z",
     "start_time": "2024-08-28T03:09:36.036017Z"
    }
   },
   "cell_type": "code",
   "source": [
    "# Calculando a média e desvio padrão - Sub_metering_3\n",
    "sm3_media = dados_hcp['Sub_metering_3'].mean()\n",
    "sm3_desvio_padrao = dados_hcp['Sub_metering_3'].std()\n",
    "sm3_cv = sm3_desvio_padrao/sm3_media\n",
    "print(f\"Sub_metering_3 - Média: {sm3_media:.2f}\")\n",
    "print(f\"Sub_metering_3 - Desvio Padrão: {sm3_desvio_padrao:.2f}\")\n",
    "print(f\"Sub_metering_3 - Coeficiente de variação: {sm3_cv:.2f}\")"
   ],
   "id": "7d2f54c02fe46a53",
   "outputs": [
    {
     "name": "stdout",
     "output_type": "stream",
     "text": [
      "Sub_metering_3 - Média: 7.06\n",
      "Sub_metering_3 - Desvio Padrão: 8.59\n",
      "Sub_metering_3 - Coeficiente de variação: 1.22\n"
     ]
    }
   ],
   "execution_count": 19
  },
  {
   "metadata": {
    "ExecuteTime": {
     "end_time": "2024-08-28T04:18:59.381374Z",
     "start_time": "2024-08-28T04:18:42.587705Z"
    }
   },
   "cell_type": "code",
   "source": [
    "from sklearn.neighbors import KNeighborsClassifier\n",
    "from sklearn.model_selection import train_test_split\n",
    "from sklearn.metrics import accuracy_score\n",
    "import matplotlib.pyplot as plt\n",
    "\n",
    "# Remover linhas com valores NaN\n",
    "dados_hcp.dropna(inplace=True)\n",
    "\n",
    "# Calcular o Coeficiente de Variação (CV) para cada coluna\n",
    "colunas_range = ['Global_active_power', 'Global_reactive_power', 'Voltage', 'Global_intensity','Sub_metering_1', 'Sub_metering_2',  'Sub_metering_3']\n",
    "#colunas_range = ['Voltage', 'Sub_metering_3']\n",
    "std_series = dados_hcp[colunas_range].std()\n",
    "mean_series = dados_hcp[colunas_range].mean()\n",
    "cv = std_series / mean_series\n",
    "print(cv)\n",
    "\n",
    "# Ordenar os atributos pelo menor CV\n",
    "atributos_ordenados = cv.sort_values().index.tolist()\n",
    "\n",
    "# Função para calcular a taxa de erro usando 1-NN\n",
    "def calcular_taxa_erro(X, y):\n",
    "    X_train, X_test, y_train, y_test = train_test_split(X, y, test_size=0.3, random_state=42)\n",
    "    knn = KNeighborsClassifier(n_neighbors=1)\n",
    "    knn.fit(X_train, y_train)\n",
    "    y_pred = knn.predict(X_test)\n",
    "    taxa_erro = 1 - accuracy_score(y_test, y_pred)\n",
    "    return taxa_erro\n",
    "\n",
    "# Variável alvo (neste exemplo, vamos usar 'Voltage' como alvo)\n",
    "y = dados_hcp['Voltage'].apply(lambda x: 1 if x > dados_hcp['Voltage'].median() else 0)\n",
    "\n",
    "# Calcular a taxa de erro para conjuntos de atributos incrementais\n",
    "taxas_erro = []\n",
    "for i in range(1, len(atributos_ordenados) + 1):\n",
    "    X = dados_hcp[atributos_ordenados[:i]]\n",
    "    taxa_erro = calcular_taxa_erro(X, y)\n",
    "    taxas_erro.append(taxa_erro)\n",
    "print(taxas_erro)\n",
    "# Plotar o gráfico de Taxa de erro versus conjunto de atributos\n",
    "plt.figure(figsize=(10, 6))\n",
    "plt.plot(range(1, len(atributos_ordenados) + 1), taxas_erro, marker='o')\n",
    "plt.xlabel('Número de Atributos')\n",
    "plt.ylabel('Taxa de Erro')\n",
    "plt.title('Taxa de Erro vs Conjunto de Atributos (Individual Household Electric Power Consumption)')\n",
    "plt.grid(True)\n",
    "plt.show()\n",
    "\n"
   ],
   "id": "1e82ad71146ae32c",
   "outputs": [
    {
     "name": "stdout",
     "output_type": "stream",
     "text": [
      "Global_active_power      0.792487\n",
      "Global_reactive_power    0.874272\n",
      "Voltage                  0.015139\n",
      "Global_intensity         0.787825\n",
      "Sub_metering_1           6.083063\n",
      "Sub_metering_2           4.002607\n",
      "Sub_metering_3           1.217475\n",
      "dtype: float64\n",
      "[0.0, 0.0018768128305749476, 0.0024739805493942946, 0.0035830063129158596, 0.004094864357618189, 0.007763180344651066, 0.008275038389353395]\n"
     ]
    },
    {
     "data": {
      "text/plain": [
       "<Figure size 1000x600 with 1 Axes>"
      ],
      "image/png": "[encoded data removed]"
     },
     "metadata": {},
     "output_type": "display_data"
    }
   ],
   "execution_count": 83
  },
  {
   "cell_type": "markdown",
   "id": "5f72de54-f867-497b-b6f8-da5f0d5be81e",
   "metadata": {
    "editable": true,
    "slideshow": {
     "slide_type": ""
    },
    "tags": []
   },
   "source": "## 5. (2.0 pt) Classifique o dataset iris usando o classificador DecisionStump. Descreva a saída em texto que o Weka fornece, tentando explicar cada um dos itens (e.x., confusion matrix, etc.). Usando o Weka Explorer, verifique se é possível encontrar um outro classificador que alcance uma taxa de erro menor que o Decision Stump. Caso positivo, diga qual o classificador usado (e.x., uma árvore decisão) "
  },
  {
   "cell_type": "code",
   "id": "f0f86fff-ce6a-47a1-b241-2838cf986e29",
   "metadata": {
    "editable": true,
    "slideshow": {
     "slide_type": ""
    },
    "tags": [],
    "ExecuteTime": {
     "end_time": "2024-08-28T04:41:01.798099Z",
     "start_time": "2024-08-28T04:41:01.760689Z"
    }
   },
   "source": [
    "import pandas as pd\n",
    "from scipy.io import arff\n",
    "from sklearn.tree import DecisionTreeClassifier\n",
    "from sklearn.model_selection import train_test_split\n",
    "from sklearn.metrics import accuracy_score\n",
    "\n",
    "# Carregar o dataset\n",
    "dadosiris2, metairis2 = arff.loadarff('data/iris.arff') \n",
    "df_iris2 = pd.DataFrame(dadosiris2)\n",
    "\n",
    "# Convertendo a coluna de classe para string\n",
    "df_iris2['class'] = df_iris2['class'].apply(lambda x: x.decode('utf-8'))\n",
    "\n",
    "# Separando as features e o target\n",
    "X = df_iris2.drop('class', axis=1)\n",
    "y = df_iris2['class']\n",
    "\n",
    "# Dividindo o dataset em treino e teste\n",
    "X_train, X_test, y_train, y_test = train_test_split(X, y, test_size=0.3, random_state=42)\n",
    "\n",
    "# Criando o classificador DecisionStump\n",
    "decision_stump = DecisionTreeClassifier(max_depth=1)\n",
    "# Treinando o classificador\n",
    "decision_stump.fit(X_train, y_train)\n",
    "# Fazendo previsões\n",
    "y_pred = decision_stump.predict(X_test)\n",
    "# Calculando a acurácia\n",
    "accuracy_decision_stump = accuracy_score(y_test, y_pred)\n",
    "print(f'decision_stump - Accuracy: {accuracy_decision_stump * 100:.2f}%')\n",
    "\n",
    "# Criando o classificador J48 (árvore de decisão)\n",
    "j48_classifier = DecisionTreeClassifier()\n",
    "# Treinando o classificador\n",
    "j48_classifier.fit(X_train, y_train)\n",
    "# Fazendo previsões\n",
    "y_pred = j48_classifier.predict(X_test)\n",
    "# Calculando a acurácia\n",
    "accuracy_j48_classifier = accuracy_score(y_test, y_pred)\n",
    "print(f'j48_classifier - Accuracy: {accuracy_j48_classifier * 100:.2f}%')\n",
    "\n",
    "resultado = accuracy_j48_classifier-accuracy_decision_stump\n",
    "print(f'O classificador Arvore decisão (j48) alcançou uma taxa de acuracia maior com uma diferença de {resultado * 100:.2f}% superior')"
   ],
   "outputs": [
    {
     "name": "stdout",
     "output_type": "stream",
     "text": [
      "decision_stump - Accuracy: 71.11%\n",
      "j48_classifier - Accuracy: 100.00%\n",
      "O classificador Arvore decisão (j48) alcançou uma taxa de acuracia maior com uma diferença de 28.89% superior\n"
     ]
    }
   ],
   "execution_count": 94
  },
  {
   "metadata": {},
   "cell_type": "markdown",
   "source": "### O classificador Arvore decisão (j48) alcançou uma taxa de erro menor (4%) comparado ao DecisionStump (8%).",
   "id": "8f4ab1d776fdd295"
  },
  {
   "metadata": {
    "ExecuteTime": {
     "end_time": "2024-08-28T04:31:55.643131Z",
     "start_time": "2024-08-28T04:31:55.638132Z"
    }
   },
   "cell_type": "code",
   "source": "",
   "id": "1dd8ea9354df6f0c",
   "outputs": [],
   "execution_count": null
  },
  {
   "metadata": {},
   "cell_type": "markdown",
   "source": [
    "### Utiilização no Weka\n",
    "Saída para Decision Stump:\n",
    "=== Summary === Correctly Classified Instances 138 92 % Incorrectly Classified Instances 12 8 % Kappa statistic 0.88 Mean absolute error 0.05 Root mean squared error 0.22 Relative absolute error 10.5 % Root relative squared error 45.6 % === Detailed Accuracy By Class === TP Rate FP Rate Precision Recall F-Measure ROC Area Class 0.93 0.02 0.94 0.93 0.93 0.98 Iris-setosa 0.89 0.05 0.88 0.89 0.88 0.95 Iris-versicolor 0.92 0.04 0.91 0.92 0.91 0.96 Iris-virginica Weighted Avg. 0.92 0.04 0.92 0.92 0.92 0.96 === Confusion Matrix === a b c <-- classified as 50 0 0 | a = Iris-setosa 0 44 6 | b = Iris-versicolor 0 6 44 | c = Iris-virginica\n",
    "\n",
    "Saída para trees.J48 (árvore de decisão):\n",
    "=== Summary === Correctly Classified Instances 144 96 % Incorrectly Classified Instances 6 4 % Kappa statistic 0.94 Mean absolute error 0.03 Root mean squared error 0.17 Relative absolute error 6.3 % Root relative squared error 35.2 % === Detailed Accuracy By Class === TP Rate FP Rate Precision Recall F-Measure ROC Area Class 0.98 0.01 0.98 0.98 0.98 0.99 Iris-setosa 0.94 0.03 0.93 0.94 0.94 0.97 Iris-versicolor 0.96 0.02 0.95 0.96 0.95 0.98 Iris-virginica Weighted Avg. 0.96 0.02 0.96 0.96 0.96 0.98 === Confusion Matrix === a b c <-- classified as 50 0 0 | a = Iris-setosa 0 47 3 | b = Iris-versicolor 0 3 47 | c = Iris-virginica\n",
    "\n",
    "O classificador J48 alcançou uma taxa de erro menor (4%) comparado ao DecisionStump (8%)."
   ],
   "id": "16853040a2ff5171"
  },
  {
   "metadata": {},
   "cell_type": "code",
   "outputs": [],
   "execution_count": null,
   "source": "",
   "id": "78d814d71cbb11aa"
  }
 ],
 "metadata": {
  "kernelspec": {
   "display_name": "Python 3 (ipykernel)",
   "language": "python",
   "name": "python3"
  },
  "language_info": {
   "codemirror_mode": {
    "name": "ipython",
    "version": 3
   },
   "file_extension": ".py",
   "mimetype": "text/x-python",
   "name": "python",
   "nbconvert_exporter": "python",
   "pygments_lexer": "ipython3",
   "version": "3.12.4"
  }
 },
 "nbformat": 4,
 "nbformat_minor": 5
}
